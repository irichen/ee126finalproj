{
 "cells": [
  {
   "cell_type": "code",
   "execution_count": 1,
   "metadata": {},
   "outputs": [],
   "source": [
    "import pandas\n",
    "import numpy as np\n",
    "import collections"
   ]
  },
  {
   "cell_type": "code",
   "execution_count": 2,
   "metadata": {},
   "outputs": [],
   "source": [
    "author_to_score = collections.OrderedDict()  #author id -> score\n",
    "paper_to_if = dict()  #paper id -> impact factor\n",
    "paper_to_authors = dict()  #paper id -> set of author id's\n"
   ]
  },
  {
   "cell_type": "code",
   "execution_count": 3,
   "metadata": {},
   "outputs": [],
   "source": [
    "author_to_author_and_papers = dict()  #author id \"A\" -> [ (A cited \"B\", [A cited B in these papers]), (A cited C), [A cited C in these papers]]"
   ]
  },
  {
   "cell_type": "code",
   "execution_count": 4,
   "metadata": {},
   "outputs": [],
   "source": [
    "#returns id of author chosen uniformly randomly\n",
    "def randStartPoint():\n",
    "    idx = np.random.randint(len(author_to_score))\n",
    "    return author_to_score.keys()[idx]   #perhaps sorting issues here? check later"
   ]
  },
  {
   "cell_type": "code",
   "execution_count": 5,
   "metadata": {},
   "outputs": [],
   "source": [
    "#update author_to_score every iteration\n",
    "def graphtraversal(num_trials, num_walks_per_trial):\n",
    "    \n",
    "#     output = np.zeros((num_trials, numauthors))   #matrix of all results. sorted by author id's.\n",
    "    \n",
    "    for i in num_trials:\n",
    "    \n",
    "        #select uniform start point\n",
    "        cur_author = randStartPoint()\n",
    "        \n",
    "        for num_walk in num_walks_per_trial:\n",
    "\n",
    "            #calculate next author to go to (propose next state) according to dist. 1/d for current node\n",
    "            idx = np.random.randint(len(author_to_author_and_papers[cur_author]))\n",
    "            proposed_author = author_to_author_and_papers[idx][0]\n",
    "            \n",
    "            #accept or not? according to metropolis hastings \n",
    "            pi_y = author_to_score(proposed_author)   #pi(x) = score(x)\n",
    "            pi_x = author_to_score(cur_author)\n",
    "            f_y = 1 / len(author_to_author_and_papers[proposed_author]) #f(x) = 1/d where d is degree of node x (number of outgoing edges)\n",
    "            f_x = 1 / len(author_to_author_and_papers[proposed_author]) #maybe float errors here\n",
    "            \n",
    "            p_accept = min(1, (pi_y * f_y) / (pi_x * f_x))\n",
    "            \n",
    "            \n",
    "            if np.random.random() < p_accept:\n",
    "                #if accept, then update every score in author_to_score (normalize)\n",
    "                max_score = max(author_to_score.values())\n",
    "                for author, score in author_to_score.iteritems():\n",
    "                    author_to_score[author] = score / max_score\n",
    "                \n",
    "                cur_author = proposed_author\n",
    "                \n",
    "            else:  #if not accept, randomly start again\n",
    "                cur_author = randStartPoint()\n",
    "        \n",
    "        #add trial results to output matrix\n",
    "#         output[i] = np.array(author_to_score.values())  #hopefully sorted? check here too\n",
    "#                                                         #don't think this numpy notation works. tweak later lol\n",
    "     \n",
    "#     output = np.mean(output, dim=1) #columnwise avg for each author\n",
    "#     return output"
   ]
  },
  {
   "cell_type": "code",
   "execution_count": null,
   "metadata": {},
   "outputs": [],
   "source": [
    "#plot all authors' score vs. numtrials"
   ]
  }
 ],
 "metadata": {
  "kernelspec": {
   "display_name": "Python 3",
   "language": "python",
   "name": "python3"
  },
  "language_info": {
   "codemirror_mode": {
    "name": "ipython",
    "version": 3
   },
   "file_extension": ".py",
   "mimetype": "text/x-python",
   "name": "python",
   "nbconvert_exporter": "python",
   "pygments_lexer": "ipython3",
   "version": "3.6.4"
  }
 },
 "nbformat": 4,
 "nbformat_minor": 2
}
