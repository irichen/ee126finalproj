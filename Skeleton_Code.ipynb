{
 "cells": [
  {
   "cell_type": "code",
   "execution_count": 1,
   "metadata": {},
   "outputs": [],
   "source": [
    "author_to_score = dict()\n",
    "paper_to_if = dict()\n",
    "paper_to_authors = dict()\n"
   ]
  },
  {
   "cell_type": "code",
   "execution_count": 3,
   "metadata": {},
   "outputs": [],
   "source": [
    "import pandas"
   ]
  },
  {
   "cell_type": "code",
   "execution_count": 5,
   "metadata": {},
   "outputs": [],
   "source": [
    "author_to_author_and_papers = dict()  #author id \"A\" -> [ (author cited \"B\", [which papers that A cited B]) ]"
   ]
  },
  {
   "cell_type": "code",
   "execution_count": 6,
   "metadata": {},
   "outputs": [
    {
     "ename": "SyntaxError",
     "evalue": "unexpected EOF while parsing (<ipython-input-6-adcece12cbe7>, line 2)",
     "output_type": "error",
     "traceback": [
      "\u001b[0;36m  File \u001b[0;32m\"<ipython-input-6-adcece12cbe7>\"\u001b[0;36m, line \u001b[0;32m2\u001b[0m\n\u001b[0;31m    #pick unif. randomly\u001b[0m\n\u001b[0m                        ^\u001b[0m\n\u001b[0;31mSyntaxError\u001b[0m\u001b[0;31m:\u001b[0m unexpected EOF while parsing\n"
     ]
    }
   ],
   "source": [
    "def randStartPoint():\n",
    "    #pick unif. randomly"
   ]
  },
  {
   "cell_type": "code",
   "execution_count": null,
   "metadata": {},
   "outputs": [],
   "source": [
    "#Luke\n",
    "def graphtraversal(num_trials, num_walks_per_trial):\n",
    "    \n",
    "    output = np.zeros((num_trails, numauthors))   #matrix of all results\n",
    "    \n",
    "    for i in num_trials:\n",
    "    \n",
    "        #select uniform start point\n",
    "        trial_results = []\n",
    "        \n",
    "        for num_walk in num_walks_per_trial:\n",
    "\n",
    "            #calculate next node to go to (propose next state) according to dist. 1/d for current node\n",
    "\n",
    "            #accept or not? according to metropolis hastings \n",
    "            #pi(x) = score(x), f(x) = 1/d where d is num of authors x mentions\n",
    "            \n",
    "                #if not accept, randomly start again\n",
    "                \n",
    "                #if accept, then update every score in author_to_score (normalize)\n",
    "        \n",
    "        #add trial_results to output matrix\n",
    "     \n",
    "    output = np.mean(dim=1) #columnwise avg for each author"
   ]
  },
  {
   "cell_type": "code",
   "execution_count": null,
   "metadata": {},
   "outputs": [],
   "source": [
    "#plot all authors' score vs. numtrials"
   ]
  }
 ],
 "metadata": {
  "kernelspec": {
   "display_name": "Python 3",
   "language": "python",
   "name": "python3"
  },
  "language_info": {
   "codemirror_mode": {
    "name": "ipython",
    "version": 3
   },
   "file_extension": ".py",
   "mimetype": "text/x-python",
   "name": "python",
   "nbconvert_exporter": "python",
   "pygments_lexer": "ipython3",
   "version": "3.6.4"
  }
 },
 "nbformat": 4,
 "nbformat_minor": 2
}
