{
 "cells": [
  {
   "cell_type": "code",
   "execution_count": 1,
   "metadata": {
    "collapsed": true
   },
   "outputs": [],
   "source": [
    "import json\n",
    "import numpy as np\n",
    "import collections\n",
    "import matplotlib.pyplot as plt\n",
    "%matplotlib inline"
   ]
  },
  {
   "cell_type": "code",
   "execution_count": 2,
   "metadata": {
    "collapsed": true
   },
   "outputs": [],
   "source": [
    "data = \"[\"\n",
    "with open(\"../aminer_papers_4.txt\") as myfile:\n",
    "    counter = 0 \n",
    "    for line in myfile:\n",
    "        counter += 1\n",
    "        data += line + \",\"\n",
    "        if counter > 50000:\n",
    "            break\n",
    "\n",
    "data = data[:-1] + \"]\""
   ]
  },
  {
   "cell_type": "code",
   "execution_count": 3,
   "metadata": {
    "collapsed": true
   },
   "outputs": [],
   "source": [
    "json_data = json.loads(data)"
   ]
  },
  {
   "cell_type": "code",
   "execution_count": 4,
   "metadata": {},
   "outputs": [
    {
     "data": {
      "text/plain": [
       "{'authors': [{'name': 'B. J. Hunt'}],\n",
       " 'doi': '10.1191/096120300678828244',\n",
       " 'id': '53e99addb7602d9702362bdd',\n",
       " 'issue': '3',\n",
       " 'lang': 'en',\n",
       " 'n_citation': 5,\n",
       " 'page_end': '193',\n",
       " 'page_start': '189',\n",
       " 'title': 'The endothelium in atherogenesis',\n",
       " 'url': ['http://dx.doi.org/10.1191/096120300678828244'],\n",
       " 'venue': 'Lupus',\n",
       " 'volume': '9',\n",
       " 'year': 2000}"
      ]
     },
     "execution_count": 4,
     "metadata": {},
     "output_type": "execute_result"
    }
   ],
   "source": [
    "len(json_data)\n",
    "json_data[0]"
   ]
  },
  {
   "cell_type": "code",
   "execution_count": 5,
   "metadata": {
    "collapsed": true
   },
   "outputs": [],
   "source": [
    "paper_to_authors = dict()\n",
    "paper_to_journal = dict()\n",
    "\n",
    "for paper_obj in json_data:\n",
    "    if 'id' in paper_obj and 'authors' in paper_obj and 'venue' in paper_obj:\n",
    "        paper = paper_obj['id']\n",
    "        authors = paper_obj['authors']\n",
    "        journal = paper_obj['venue']\n",
    "        \n",
    "        paper_to_authors[paper] = [author['name'] for author in authors]\n",
    "        paper_to_journal[paper] = journal"
   ]
  },
  {
   "cell_type": "code",
   "execution_count": 6,
   "metadata": {},
   "outputs": [
    {
     "data": {
      "text/plain": [
       "43153"
      ]
     },
     "execution_count": 6,
     "metadata": {},
     "output_type": "execute_result"
    }
   ],
   "source": [
    "len(paper_to_authors)"
   ]
  },
  {
   "cell_type": "code",
   "execution_count": 7,
   "metadata": {
    "collapsed": true
   },
   "outputs": [],
   "source": [
    "author_to_author_and_papers = dict()\n",
    "\n",
    "for paper_obj in json_data:\n",
    "    if 'references' in paper_obj and 'authors' in paper_obj and 'venue' in paper_obj:\n",
    "        paper_refs = paper_obj['references']\n",
    "        author_and_papers = dict()\n",
    "        for paper_ref in paper_refs:\n",
    "            if paper_ref in paper_to_authors:\n",
    "                authors = paper_to_authors[paper_ref]\n",
    "                for author in authors:\n",
    "                    if author not in author_and_papers:\n",
    "                        author_and_papers[author] = [paper_ref]\n",
    "                    else:\n",
    "                        author_and_papers[author].append(paper_ref)\n",
    "        for author in paper_obj['authors']:\n",
    "            author_to_author_and_papers[author['name']] = author_and_papers"
   ]
  },
  {
   "cell_type": "code",
   "execution_count": 8,
   "metadata": {
    "collapsed": true
   },
   "outputs": [],
   "source": [
    "cleaned_author_to_etc = dict()\n",
    "\n",
    "for obj in author_to_author_and_papers.keys():\n",
    "    if author_to_author_and_papers[obj]:\n",
    "        cleaned_author_to_etc[obj] = author_to_author_and_papers[obj]"
   ]
  },
  {
   "cell_type": "code",
   "execution_count": 9,
   "metadata": {
    "collapsed": true,
    "scrolled": true
   },
   "outputs": [],
   "source": [
    "# author_to_author_and_papers = cleaned_author_to_etc"
   ]
  },
  {
   "cell_type": "code",
   "execution_count": 10,
   "metadata": {},
   "outputs": [
    {
     "data": {
      "text/plain": [
       "28245"
      ]
     },
     "execution_count": 10,
     "metadata": {},
     "output_type": "execute_result"
    }
   ],
   "source": [
    "len(author_to_author_and_papers)"
   ]
  },
  {
   "cell_type": "code",
   "execution_count": 11,
   "metadata": {
    "collapsed": true
   },
   "outputs": [],
   "source": [
    "#returns id of author chosen uniformly randomly\n",
    "def randStartPoint(author_to_score):\n",
    "    idx = np.random.randint(len(author_to_score))\n",
    "    return list(author_to_score.keys())[idx]   #perhaps sorting issues here? check later\n",
    "\n",
    "def getScore(cur_author, proposed_author, author_to_score):\n",
    "    papers = author_to_author_and_papers[cur_author][proposed_author]\n",
    "    score = 0\n",
    "    for paper in papers:\n",
    "        paper_authors = paper_to_authors[paper]\n",
    "        avg_author_score = np.mean([author_to_score[auth] for auth in paper_authors if auth in author_to_score])\n",
    "        score += avg_author_score * paper_to_if[paper]\n",
    "    \n",
    "    return np.log10(score)\n",
    "#     return 1"
   ]
  },
  {
   "cell_type": "code",
   "execution_count": 12,
   "metadata": {
    "collapsed": true
   },
   "outputs": [],
   "source": [
    "def graphtraversal(num_trials, num_walks_per_trial):\n",
    "#     outputs = []\n",
    "#     list_of_author_to_score = []\n",
    "    numAuthors = len(author_to_author_and_papers)\n",
    "    \n",
    "    for i in range(num_trials):\n",
    "        authors_explored = set()\n",
    "        deadend = 0\n",
    "        p_accept_lt_1 = 0\n",
    "        trial_output = np.zeros((numAuthors, num_walks_per_trial))\n",
    "        \n",
    "        startScore = 1\n",
    "        author_to_score = collections.OrderedDict([(author, startScore) for author in author_to_author_and_papers.keys()])\n",
    "        \n",
    "        print(\"Trial number \", str(i+1), \"/\", num_trials)\n",
    "    \n",
    "        #select uniform start point\n",
    "        cur_author = randStartPoint(author_to_score)\n",
    "        authors_explored.add(cur_author)\n",
    "        \n",
    "        for num_walk in range(num_walks_per_trial):\n",
    "            if len(author_to_author_and_papers[cur_author]) == 0: #current author is a dead end\n",
    "                cur_author = randStartPoint(author_to_score)\n",
    "                authors_explored.add(cur_author)\n",
    "                deadend += 1\n",
    "            else:\n",
    "                tries = 10\n",
    "                for t in range(tries):\n",
    "                    idx = np.random.randint(len(author_to_author_and_papers[cur_author]))\n",
    "                    proposed_author = list(author_to_author_and_papers[cur_author].keys())[idx]\n",
    "                    if proposed_author in author_to_score:\n",
    "                        break\n",
    "                if proposed_author not in author_to_score:\n",
    "                    cur_author = randStartPoint(author_to_score)\n",
    "                    authors_explored.add(cur_author)\n",
    "                    continue\n",
    "\n",
    "                #accept or not? according to metropolis hastings \n",
    "                pi_y = author_to_score[proposed_author]  #pi(x) = score(x)\n",
    "                pi_x = author_to_score[cur_author]\n",
    "                \n",
    "                # Proposal function f(x) = 1/d where d is degree of node x (number of outgoing edges)\n",
    "                f_y = 1 / max(1, len(author_to_author_and_papers[proposed_author]))\n",
    "                f_x = 1 / max(1, len(author_to_author_and_papers[cur_author]))\n",
    "                \n",
    "#                 print(\"pi_y: \", str(pi_y))\n",
    "#                 print(\"pi_x: \", str(pi_x))\n",
    "#                 print(\"f_y: \", str(f_y))\n",
    "#                 print(\"f_x: \", str(f_x))\n",
    "#                 print(\"p_accept: \", (pi_y * f_y) / (pi_x * f_x))\n",
    "                p_accept = min(1, (pi_y * f_y) / (pi_x * f_x))\n",
    "                if p_accept < 1:\n",
    "                    p_accept_lt_1 += 1\n",
    "\n",
    "                if proposed_author in author_to_score and np.random.random() < p_accept and proposed_author != cur_author:\n",
    "                    #if accept, update proposed_author's score.  Then move to proposed_author\n",
    "                    author_to_score[proposed_author] += getScore(cur_author, proposed_author, author_to_score)\n",
    "                    cur_author = proposed_author\n",
    "                    authors_explored.add(cur_author)\n",
    "                    \n",
    "#                     print(\"printing all scores before norm...\")\n",
    "#                     for author, score in zip(author_to_score.keys(), author_to_score.values()):\n",
    "#                         print(\"author: \", author)\n",
    "#                         print(\"score: \", score)\n",
    "\n",
    "                    #renormalize everyone author's score\n",
    "#                     norm_score = sum(author_to_score.values())\n",
    "#                     norm_score = max(author_to_score.values())\n",
    "\n",
    "#                     print(\"printing all scores...\")\n",
    "#                     for author in author_to_score:\n",
    "#                         author_to_score[author] = author_to_score[author] / norm_score\n",
    "#                         print(\"author: \", author)\n",
    "#                         print(\"score: \", author_to_score[author])\n",
    "\n",
    "                else:  #if not accept, randomly start again\n",
    "                    cur_author = randStartPoint(author_to_score)\n",
    "                    authors_explored.add(cur_author)\n",
    "            trial_output[:, num_walk] = list(author_to_score.values())\n",
    "        \n",
    "        #add trial results to output matrix\n",
    "#         outputs.append(trial_output)\n",
    "#         list_of_author_to_score.append(author_to_score)\n",
    "        print(\"# authors explored: \", len(authors_explored), \" | # total authors: \", len(author_to_score))\n",
    "        print(\"# of deadends: \", deadend, \" | # of p_accept < 1: \", p_accept_lt_1)\n",
    "        print('\\n')\n",
    "        \n",
    "        #plot and display results\n",
    "        top_authors = sorted(author_to_score, key=author_to_score.get, reverse=True)[:10]\n",
    "        top_authors_idx = [list(author_to_score.keys()).index(author) for author in top_authors]\n",
    "        print(top_authors)\n",
    "\n",
    "        plt.figure()\n",
    "        rows, cols = trial_output.shape\n",
    "        first = True\n",
    "        for row in top_authors_idx:\n",
    "            if first:\n",
    "                first = False\n",
    "                continue\n",
    "            y_data = trial_output[row]\n",
    "            plt.plot(range(cols), y_data, '.')\n",
    "     \n",
    "#     return outputs, list_of_author_to_score"
   ]
  },
  {
   "cell_type": "code",
   "execution_count": 13,
   "metadata": {
    "scrolled": true
   },
   "outputs": [
    {
     "name": "stdout",
     "output_type": "stream",
     "text": [
      "Trial number  1 / 5\n",
      "# authors explored:  18338  | # total authors:  28245\n",
      "# of deadends:  28474  | # of p_accept < 1:  200\n",
      "\n",
      "\n",
      "['R. Axelrod', 'James Gosling', 'Guy L. Steele', 'Lawrence A. Rowe', 'H. Young', 'A. H. Clifford', 'DEWEY C. SCHEID', 'Alberto Carlini', 'Vincent S.E. Falger', 'J. Christensen-Dalsgaard']\n",
      "Trial number  2 / 5\n",
      "# authors explored:  18375  | # total authors:  28245\n",
      "# of deadends:  28482  | # of p_accept < 1:  207\n",
      "\n",
      "\n",
      "['Robert Endre Tarjan', 'R. Axelrod', 'Mitchel Resnick', 'Guy L. Steele', 'V. S. Subrahmanian', 'Rosalba Giugno', 'Giinter Schmahl', 'H. Young', 'J. Christensen-Dalsgaard', 'C. J. Howe']\n",
      "Trial number  3 / 5\n",
      "# authors explored:  18380  | # total authors:  28245\n",
      "# of deadends:  28517  | # of p_accept < 1:  194\n",
      "\n",
      "\n",
      "['R. Axelrod', 'Guy L. Steele', 'Mitchel Resnick', 'James Gosling', 'Jeffrey I. Zink', 'Yosuke Okudaira', 'H. Young', 'H. Hansmann', 'Miquel Vilafranca', 'Tatsuhiko Koike']\n",
      "Trial number  4 / 5\n",
      "# authors explored:  18319  | # total authors:  28245\n",
      "# of deadends:  28350  | # of p_accept < 1:  238\n",
      "\n",
      "\n",
      "['R. Axelrod', 'James Gosling', 'Robert Endre Tarjan', 'J.D. Connolly', 'K. Harischandra Prasad', 'P. A. WOOLLEY', 'K. Ravi', 'Mitchel Resnick', 'A. H. Clifford', 'Dulcie A. Mulholland']\n"
     ]
    },
    {
     "ename": "MemoryError",
     "evalue": "",
     "output_type": "error",
     "traceback": [
      "\u001b[1;31m---------------------------------------------------------------------------\u001b[0m",
      "\u001b[1;31mMemoryError\u001b[0m                               Traceback (most recent call last)",
      "\u001b[1;32m<ipython-input-13-5ddfbe1ce004>\u001b[0m in \u001b[0;36m<module>\u001b[1;34m()\u001b[0m\n\u001b[0;32m      2\u001b[0m \u001b[0mpaper_to_if\u001b[0m \u001b[1;33m=\u001b[0m \u001b[1;33m{\u001b[0m\u001b[0mkey\u001b[0m\u001b[1;33m:\u001b[0m\u001b[0mvalue\u001b[0m \u001b[1;32mfor\u001b[0m \u001b[0mkey\u001b[0m \u001b[1;32min\u001b[0m \u001b[0mpaper_to_journal\u001b[0m\u001b[1;33m.\u001b[0m\u001b[0mkeys\u001b[0m\u001b[1;33m(\u001b[0m\u001b[1;33m)\u001b[0m\u001b[1;33m}\u001b[0m\u001b[1;33m\u001b[0m\u001b[0m\n\u001b[0;32m      3\u001b[0m \u001b[1;31m# outputs, list_of_author_to_score = graphtraversal(5, 30000)\u001b[0m\u001b[1;33m\u001b[0m\u001b[1;33m\u001b[0m\u001b[0m\n\u001b[1;32m----> 4\u001b[1;33m \u001b[0mgraphtraversal\u001b[0m\u001b[1;33m(\u001b[0m\u001b[1;36m5\u001b[0m\u001b[1;33m,\u001b[0m \u001b[1;36m30000\u001b[0m\u001b[1;33m)\u001b[0m\u001b[1;33m\u001b[0m\u001b[0m\n\u001b[0m",
      "\u001b[1;32m<ipython-input-12-ac512246b502>\u001b[0m in \u001b[0;36mgraphtraversal\u001b[1;34m(num_trials, num_walks_per_trial)\u001b[0m\n\u001b[0;32m     11\u001b[0m         \u001b[0mdeadend\u001b[0m \u001b[1;33m=\u001b[0m \u001b[1;36m0\u001b[0m\u001b[1;33m\u001b[0m\u001b[0m\n\u001b[0;32m     12\u001b[0m         \u001b[0mp_accept_lt_1\u001b[0m \u001b[1;33m=\u001b[0m \u001b[1;36m0\u001b[0m\u001b[1;33m\u001b[0m\u001b[0m\n\u001b[1;32m---> 13\u001b[1;33m         \u001b[0mtrial_output\u001b[0m \u001b[1;33m=\u001b[0m \u001b[0mnp\u001b[0m\u001b[1;33m.\u001b[0m\u001b[0mzeros\u001b[0m\u001b[1;33m(\u001b[0m\u001b[1;33m(\u001b[0m\u001b[0mnumAuthors\u001b[0m\u001b[1;33m,\u001b[0m \u001b[0mnum_walks_per_trial\u001b[0m\u001b[1;33m)\u001b[0m\u001b[1;33m)\u001b[0m\u001b[1;33m\u001b[0m\u001b[0m\n\u001b[0m\u001b[0;32m     14\u001b[0m \u001b[1;33m\u001b[0m\u001b[0m\n\u001b[0;32m     15\u001b[0m         \u001b[0mstartScore\u001b[0m \u001b[1;33m=\u001b[0m \u001b[1;36m1\u001b[0m\u001b[1;33m\u001b[0m\u001b[0m\n",
      "\u001b[1;31mMemoryError\u001b[0m: "
     ]
    },
    {
     "data": {
      "image/png": "[encoded data removed]",
      "text/plain": [
       "<matplotlib.figure.Figure at 0x1dbc7edb160>"
      ]
     },
     "metadata": {},
     "output_type": "display_data"
    },
    {
     "data": {
      "image/png": "[encoded data removed]",
      "text/plain": [
       "<matplotlib.figure.Figure at 0x1dd5c1625c0>"
      ]
     },
     "metadata": {},
     "output_type": "display_data"
    },
    {
     "data": {
      "image/png": "[encoded data removed]",
      "text/plain": [
       "<matplotlib.figure.Figure at 0x1dd5c175518>"
      ]
     },
     "metadata": {},
     "output_type": "display_data"
    },
    {
     "data": {
      "image/png": "[encoded data removed]",
      "text/plain": [
       "<matplotlib.figure.Figure at 0x1def38599b0>"
      ]
     },
     "metadata": {},
     "output_type": "display_data"
    }
   ],
   "source": [
    "value = 5\n",
    "paper_to_if = {key:value for key in paper_to_journal.keys()}\n",
    "# outputs, list_of_author_to_score = graphtraversal(5, 30000)\n",
    "graphtraversal(5, 30000)"
   ]
  },
  {
   "cell_type": "code",
   "execution_count": null,
   "metadata": {
    "collapsed": true
   },
   "outputs": [],
   "source": [
    "for output, author_to_score in zip(outputs, list_of_author_to_score):\n",
    "    top_authors = sorted(author_to_score, key=author_to_score.get, reverse=True)[:10]\n",
    "    top_authors_idx = [list(author_to_score.keys()).index(author) for author in top_authors]\n",
    "    print(top_authors)\n",
    "    \n",
    "    plt.figure()\n",
    "    rows, cols = output.shape\n",
    "    first = True\n",
    "    for row in top_authors_idx:\n",
    "        if first:\n",
    "            first = False\n",
    "            continue\n",
    "        y_data = output[row]\n",
    "        plt.plot(range(cols), y_data, '.')"
   ]
  },
  {
   "cell_type": "code",
   "execution_count": null,
   "metadata": {
    "collapsed": true
   },
   "outputs": [],
   "source": [
    "unique, counts = np.unique(list(paper_to_journal.values()), return_counts = True)\n",
    "journal_occurences = dict(zip(unique, counts))"
   ]
  },
  {
   "cell_type": "code",
   "execution_count": null,
   "metadata": {
    "collapsed": true
   },
   "outputs": [],
   "source": []
  }
 ],
 "metadata": {
  "kernelspec": {
   "display_name": "Python 3",
   "language": "python",
   "name": "python3"
  },
  "language_info": {
   "codemirror_mode": {
    "name": "ipython",
    "version": 3
   },
   "file_extension": ".py",
   "mimetype": "text/x-python",
   "name": "python",
   "nbconvert_exporter": "python",
   "pygments_lexer": "ipython3",
   "version": "3.6.1"
  }
 },
 "nbformat": 4,
 "nbformat_minor": 2
}
